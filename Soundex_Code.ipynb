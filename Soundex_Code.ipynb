{
  "nbformat": 4,
  "nbformat_minor": 0,
  "metadata": {
    "colab": {
      "provenance": [],
      "authorship_tag": "ABX9TyOSc1I6zd+2w9k1pf94oSoA",
      "include_colab_link": true
    },
    "kernelspec": {
      "name": "python3",
      "display_name": "Python 3"
    },
    "language_info": {
      "name": "python"
    }
  },
  "cells": [
    {
      "cell_type": "markdown",
      "metadata": {
        "id": "view-in-github",
        "colab_type": "text"
      },
      "source": [
        "<a href=\"https://colab.research.google.com/github/EshraqAllawama/My-Soundex-code/blob/main/My_Soundex_Code.ipynb\" target=\"_parent\"><img src=\"https://colab.research.google.com/assets/colab-badge.svg\" alt=\"Open In Colab\"/></a>"
      ]
    },
    {
      "cell_type": "code",
      "execution_count": null,
      "metadata": {
        "id": "6hX4lD2Gg7aA"
      },
      "outputs": [],
      "source": [
        "def remove_(l):\n",
        " o = []\n",
        " lo = []\n",
        "\n",
        " o.append(l[0])\n",
        " for i in range(len(l)-1):\n",
        "    if l[i] != l[i+1]:\n",
        "       o.append(l[i+1])\n",
        "\n",
        " for k in range(len(o)):\n",
        "    if o[k] != 0:\n",
        "       lo.append(o[k])\n",
        " return lo\n",
        "\n",
        "def f_1(l):\n",
        "  m = l\n",
        "  if len(l) == 3:\n",
        "     m = l\n",
        "  elif len(l)>3:\n",
        "     p = len(l)-3\n",
        "     for i in range(p):\n",
        "         l.pop()\n",
        "     m = l\n",
        "  else :\n",
        "     p = 3-len(l)\n",
        "     for i in range(p):\n",
        "         m.append(0)\n",
        "     m = l\n",
        "  return m\n",
        "\n",
        "def f_2(m,t_0):\n",
        "  y =\"\"\n",
        "  for c in m:\n",
        "      y += str(c)\n",
        "\n",
        "  if t_0 == t_0.upper():\n",
        "    print(t_0+y)\n",
        "  else:\n",
        "    print(t_0.upper()+y)\n",
        "\n",
        "def solv(t_0,t_1):\n",
        "  l = []\n",
        "  chr = {\n",
        "    0:[\"A\",\"E\",\"I\",\"O\",\"Y\",\"H\",\"W\",\"U\"],\n",
        "    1:[\"P\",\"B\",\"F\",\"V\"],\n",
        "    2:[\"C\",\"G\",\"K\",\"J\",\"Q\",\"X\",\"S\",\"Z\"],\n",
        "    3:[\"D\",\"T\"],\n",
        "    4:[\"L\"],\n",
        "    5:[\"M\",\"N\"],\n",
        "    6:[\"R\"]\n",
        "        }\n",
        "  for i in t_1:\n",
        "     for j,k in chr.items():\n",
        "         if i in k or i.upper() in k:\n",
        "            l.append(j)\n",
        "  l = remove_(l)\n",
        "  m = f_1(l)\n",
        "  f_2(m,t_0)\n",
        "\n",
        "def Sdx(word):\n",
        " t_0 = word[0]\n",
        " t_1 = word[1:len(word)]\n",
        " solv(t_0,t_1)\n",
        "\n"
      ]
    },
    {
      "cell_type": "code",
      "source": [
        "#Enter Your word to find soundex code for it\n",
        "Sdx(input())"
      ],
      "metadata": {
        "id": "6ltS-nyvg_w0"
      },
      "execution_count": null,
      "outputs": []
    }
  ]
}
